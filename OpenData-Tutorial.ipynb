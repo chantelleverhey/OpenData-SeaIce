{
 "cells": [
  {
   "cell_type": "markdown",
   "id": "a4045362-c1d5-48c8-a57f-fbebe4c5004e",
   "metadata": {},
   "source": [
    "# 5803 - Open Data Exercise"
   ]
  },
  {
   "cell_type": "markdown",
   "id": "df0f6faa-3333-476d-8455-2e3bfcced9ce",
   "metadata": {
    "tags": []
   },
   "source": [
    "# 1. Polar Data Search \n",
    "https://Search.polder.info\n",
    "\n",
    "### 1.2 Search for sea-ice extent\n",
    "\"sea-ice extent\""
   ]
  },
  {
   "cell_type": "markdown",
   "id": "10a57e96-39a0-4fb1-9119-ad4ffec700fd",
   "metadata": {},
   "source": [
    "### 1.3 Follow DOI (PID)to find the dataset below\n",
    "Sea Ice Outlook 2008-2023, Pan-arctic region\n",
    "doi:10.18739/A2WS8HN79\n",
    "https://arcticdata.io/catalog/view/doi:10.18739/A2WS8HN79\n",
    "\n",
    "- Look through metadata: Can you find information about the datasets?\n",
    "\n",
    "### 1.4 download .csv\n",
    "\"Open-SeaIce-Extent/2008_2023c_sio.csv\""
   ]
  },
  {
   "cell_type": "markdown",
   "id": "3fca778a-5a4c-4cc1-bb66-74c93e158f2b",
   "metadata": {},
   "source": [
    "# 2. 'FAIR' Assessment Review"
   ]
  },
  {
   "cell_type": "markdown",
   "id": "5e8a9536-69c7-48bc-985c-3b3619a1782f",
   "metadata": {},
   "source": [
    "- Step 1: ![Click Assessment Report](Open-SeaIce-Extent/Screenshot-Photos/assessment-button.png)\n",
    "- Step 2: ![FAIRness report](Open-SeaIce-Extent/Screenshot-Photos/FAIR-example.png)"
   ]
  },
  {
   "cell_type": "markdown",
   "id": "e314d989-8e08-443b-852d-084040c626cc",
   "metadata": {},
   "source": [
    "# 3. PolarTEP Python Notebook ENV\n",
    "\n",
    "### 3.1 Log-in\n",
    "[picture]\n",
    "\n",
    "- Step 1: \n",
    "- Step 2:\n",
    "- Step 3:\n",
    "\n",
    "## Import 2008_2023c_sio.csv\n",
    "\n",
    "- Step 1:\n",
    "- Step 2:\n",
    "- Step 3:\n",
    "\n",
    "## run extent code\n"
   ]
  },
  {
   "cell_type": "markdown",
   "id": "b72ff7d7-1ea6-484d-86ef-4301af742d55",
   "metadata": {},
   "source": [
    "# Establishing Git\n",
    "- Step 1:\n",
    "- Step 2:"
   ]
  },
  {
   "cell_type": "markdown",
   "id": "51616ae3-857b-46ee-86a0-282d24d17037",
   "metadata": {},
   "source": [
    "# Github\n",
    "- Step 1: Log-in to account\n",
    "\n",
    "### Setting up Personal Access Token for Github\n",
    "https://docs.github.com/en/enterprise-server@3.9/authentication/keeping-your-account-and-data-secure/managing-your-personal-access-tokens\n",
    "\n",
    "- Step 2:\n",
    "- Step 3: Push to external repository\n"
   ]
  },
  {
   "cell_type": "markdown",
   "id": "160a28ca-3905-4395-b0da-a8a6a14b279a",
   "metadata": {},
   "source": []
  },
  {
   "cell_type": "code",
   "execution_count": null,
   "id": "bbb33bff-866a-4e89-b519-b7c3742862c3",
   "metadata": {},
   "outputs": [],
   "source": []
  }
 ],
 "metadata": {
  "kernelspec": {
   "display_name": "users-edc-g-2023.10-02",
   "language": "python",
   "name": "conda-env-users-edc-g-2023.10-02-py"
  },
  "language_info": {
   "codemirror_mode": {
    "name": "ipython",
    "version": 3
   },
   "file_extension": ".py",
   "mimetype": "text/x-python",
   "name": "python",
   "nbconvert_exporter": "python",
   "pygments_lexer": "ipython3",
   "version": "3.10.13"
  }
 },
 "nbformat": 4,
 "nbformat_minor": 5
}
