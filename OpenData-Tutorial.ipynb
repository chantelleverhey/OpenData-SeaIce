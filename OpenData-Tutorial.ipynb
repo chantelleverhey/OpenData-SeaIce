{
 "cells": [
  {
   "cell_type": "markdown",
   "id": "a4045362-c1d5-48c8-a57f-fbebe4c5004e",
   "metadata": {},
   "source": [
    "# 5803 - Open Data Exercise"
   ]
  },
  {
   "cell_type": "markdown",
   "id": "df0f6faa-3333-476d-8455-2e3bfcced9ce",
   "metadata": {
    "jp-MarkdownHeadingCollapsed": true,
    "tags": []
   },
   "source": [
    "# 1. Polar Data Search \n",
    "https://Search.polder.info\n",
    "\n",
    "![Polar Data Search](Snaps/PDS-logo.png)\n",
    "\n",
    "### 1.2 Search for sea-ice extent\n",
    "\"sea-ice extent\" in keywords field → SELECT ‘SEARCH’ (bottom left)\n",
    "\n",
    "![Polar Data Search extent](Snaps/PDS.png)\n",
    "\n",
    "### 1.3 Follow DOI (PID)to find the dataset below\n",
    "Sea Ice Outlook 2008-2023, Pan-arctic region\n",
    "doi:10.18739/A2WS8HN79\n",
    "https://arcticdata.io/catalog/view/doi:10.18739/A2WS8HN79\n",
    "\n",
    "- Look through metadata: Can you find information about the datasets?\n",
    "\n",
    "### 1.4 download .csv\n",
    "\"Open-SeaIce-Extent/2008_2023c_sio.csv\"\n",
    "\n",
    "### 1.5 'FAIR' Assessment Review\n",
    "\n",
    "- Step 1: Step 1: Click Assessment Report button in mid-page right hand side of the web page (bottom left of the screenshot below)\n",
    "\n",
    "![ADC FAIR](Snaps/ADC-FAIR.png)\n",
    "\n",
    "- Step 2: Click FAIRness report -- Any thoughts? What are the restrictions? What did it do well?\n",
    "![ADC FAIR Report Assessment](Snaps/ADC-Report.png)\n",
    "\n",
    "### Done Phase 1 :)"
   ]
  },
  {
   "cell_type": "markdown",
   "id": "e314d989-8e08-443b-852d-084040c626cc",
   "metadata": {},
   "source": [
    "# 2. PolarTEP Python Notebook ENV\n",
    "\n",
    "### 2.1 Log-in\n",
    "\n",
    "- Step 1: Log-in using the 5803 credentials from week 9\n",
    "\n",
    "![Login to PolarTEP](Snaps/PolarTEP-login.png)\n",
    "\n",
    "- Step 2: Create new folder called 'Open-SeaIce-Extent'\n",
    "\n",
    "![Login to PolarTEP](Snaps/NewFolder.png)\n",
    "\n",
    "- Step 3: Drag and drop '2008_2023c_sio.csv' into the new folder we just created\n",
    "\n",
    "![Login to PolarTEP](Snaps/csv.png)\n",
    "\n",
    "We are ready to run some python!"
   ]
  },
  {
   "cell_type": "markdown",
   "id": "f8f2791a-455b-413d-992c-05167d2c6664",
   "metadata": {},
   "source": [
    "## 2.2 Run extent code\n",
    "\n",
    "- Step 1: Step 1: Create new 'Notebook / New Launcher' [Blue plus left top corner]\n",
    "\n",
    "![Login to PolarTEP](Snaps/launcher.png)\n",
    "\n",
    "- Step 2: Step 3: Drag and drop '2008_2023c_sio.csv' into the new folder we just created. We are ready to run some python!\n",
    "- Step 3: Copy and paste code block 1"
   ]
  },
  {
   "cell_type": "code",
   "execution_count": null,
   "id": "f26cd6d5-04ce-4c35-9d0d-fb413f13daa8",
   "metadata": {},
   "outputs": [],
   "source": [
    "# Codeblock 1: Import packages needed for the Timeseries\n",
    "import pandas as pd\n",
    "import numpy as np\n",
    "import matplotlib.pyplot as plt\n",
    "from scipy import stats\n",
    "\n",
    "# Note: no output"
   ]
  },
  {
   "cell_type": "code",
   "execution_count": null,
   "id": "ac3c3349-acc1-422f-9c10-a925951eefeb",
   "metadata": {},
   "outputs": [],
   "source": [
    "# Codeblock 2: Read the CSV file into a DataFrame so we have data to make a time series - since the file is in the same directory, all you need is the file name\n",
    "df = pd.read_csv('2008_2023c_sio.csv')\n",
    "\n",
    "# Note: no output"
   ]
  },
  {
   "cell_type": "code",
   "execution_count": null,
   "id": "f4300835-ec3c-42d3-8d9e-580bd5fb33b0",
   "metadata": {},
   "outputs": [],
   "source": [
    "# Codeblock 3: View the first 5 rows of your file to determine variable names\n",
    "df.head()\n",
    "\n",
    "# Note: Output should be first 5 rows of your .csv table"
   ]
  },
  {
   "cell_type": "code",
   "execution_count": null,
   "id": "3f5addb8-dc62-4aa8-8f9f-d870e97e5d41",
   "metadata": {},
   "outputs": [],
   "source": [
    "# Codeblock 4: Plot the time series graph - REMINDER: Jupyter notebook is case sensitive\n",
    "plt.figure(figsize=(12, 6))\n",
    "plt.plot(df['year'], df['extent'], marker='o', linestyle='-')\n",
    "plt.title('Sea Ice Outlook 2008-2023 (Pan-arctic region)')\n",
    "plt.xlabel('Year')\n",
    "plt.ylabel('Sea Ice Extent (km2)')\n",
    "plt.grid(True)\n",
    "\n",
    "# Fit a line of best fit to the data\n",
    "slope, intercept, r_value, p_value, std_err = stats.linregress(df['year'], df['extent'])\n",
    "line = slope * df['year'] + intercept\n",
    "\n",
    "# Plot the line of best fit\n",
    "plt.plot(df['year'], line, color='red', label='Line of Best Fit')\n",
    "\n",
    "plt.legend()\n",
    "plt.grid(True)\n",
    "plt.tight_layout()\n",
    "plt.show()\n",
    "\n",
    "# Output should be your INSANELY cool graph"
   ]
  },
  {
   "cell_type": "markdown",
   "id": "72585e1f-c95c-4c56-822a-ae249a747e26",
   "metadata": {
    "tags": []
   },
   "source": [
    "## DONE Phase 2 :)"
   ]
  },
  {
   "cell_type": "markdown",
   "id": "b72ff7d7-1ea6-484d-86ef-4301af742d55",
   "metadata": {},
   "source": [
    "# 3. Establishing Git\n",
    "\n",
    "What is Git? --> Git is a free and open source distributed version control system designed to handle everything from small to very large projects with speed and efficiency.\n",
    "\n",
    "What are the most useful variations of Git?\n",
    "- Github - https://github.com/\n",
    "- Gitlab - https://about.gitlab.com/company/\n",
    "\n",
    "Lets establish a repository in github!"
   ]
  },
  {
   "cell_type": "markdown",
   "id": "51616ae3-857b-46ee-86a0-282d24d17037",
   "metadata": {},
   "source": [
    "## 3.1 Github\n",
    "- Step 1: Log-in to your github account\n",
    "- Step 2: Once logged in → Follow the Github Steps\n",
    "Setting up Personal Access Token for Github\n",
    "https://docs.github.com/en/enterprise-server@3.9/authentication/keeping-your-account-and-data-secure/managing-your-personal-access-tokens\n",
    "\n",
    "\n",
    "### Setting up Personal Access Token for Github\n",
    "https://docs.github.com/en/enterprise-server@3.9/authentication/keeping-your-account-and-data-secure/managing-your-personal-access-tokens\n",
    "\n",
    "- In the upper-right corner of any page, click your profile photo, then click Settings.\n",
    "\n",
    "\n",
    "![Github Settings](Snaps/github-settings.png)\n",
    "\n",
    "- In the left sidebar, click  Developer settings.\n",
    "- In the left sidebar, click Personal access tokens.\n",
    "- Click Generate new token.\n",
    "- In the \"Note\" field, give your token a descriptive name.\n",
    "- To give your token an expiration, select Expiration, then choose a default option or click Custom to enter a date.\n",
    "- Select the scopes you'd like to grant this token. To use your token to access repositories from the command line, select repo. A token with no assigned scopes can only access public information. For more information, see \"Scopes for OAuth apps.\"\n",
    "- Click Generate token.\n",
    "- Optionally, to copy the new token to your clipboard, click \n",
    "![Github Token](Snaps/pa-token.png)\n",
    "\n",
    "-------------\n",
    "\n",
    "- Step 2: Copy your brand new access token\n",
    "- Step 3: Navigate back to the PolarTEP page\n",
    "- Step 4: Go to the git icon on the left hand side of your page\n",
    "\n",
    "![PolarTep Git](Snaps/link-git.png)\n",
    "\n",
    "- Step 5: Select 'initiate repository' and select our Open-SeaIce-Extent Folder\n",
    "\n",
    "![PolarTep Git](Snaps/PT-Git.png)\n",
    "\n",
    "Note: Now you are tracking version control of your notebook onl within the PolarTEP platform\n",
    "- Step 6: To push to our github repositories - select 'Git' in the control bar at the top of the polarTEP platform page\n",
    "\n",
    "![PolarTep Git](Snaps/PT-AT.png)\n",
    "\n",
    "- Step 7: Select 'Push to Remote (Advanced)' from the drop down menu\n",
    "- Step 8: Select path you want to push \n",
    "Note: should only be one named 'Open-SeaIce-Extent'\n",
    "- Step 9: enter your github username, and newly copied personal access token\n",
    "\n",
    "![PolarTep Git](Snaps/PT-AT2.png)\n",
    "\n",
    "- Step 10: Check in bottom right-hand corner for the green 'successfully pushed'\n",
    "\n",
    "![PolarTep Git](Snaps/success.png)\n",
    "\n",
    "Go take a look at your github repositories! Newly established and open for the public to see!\n",
    "\n",
    "\n",
    "\n",
    "Note: When changes are made to the docs, you must 'stage' the files with the \"+\" aligned with the file in the 'changed column on the left hand side'and give a snippet of what was changed before you can press commit and have it reflected in the github.\n",
    "\n",
    "Note 2.0: If you create the Github repository BEFORE the PolarTEP repository push - there will be a discrepency with the 'main' vs 'master' directory - PolarTEP still uses the *outdated* term of 'master' so it is only possible to use the master branch in Github."
   ]
  },
  {
   "cell_type": "markdown",
   "id": "160a28ca-3905-4395-b0da-a8a6a14b279a",
   "metadata": {},
   "source": [
    "# Impact of Open Data\n",
    " \n",
    "https://polardashboard.org/demo?event=polartep&indicator=TOPAZ5_P1D_SICONC&x=-387782.03152&y=-1233575.77539&z=1.02667 "
   ]
  },
  {
   "cell_type": "code",
   "execution_count": null,
   "id": "3819928e-fc5d-49f4-bf7e-2f4ac447acb2",
   "metadata": {},
   "outputs": [],
   "source": []
  }
 ],
 "metadata": {
  "kernelspec": {
   "display_name": "users-edc-g-2023.10-02",
   "language": "python",
   "name": "conda-env-users-edc-g-2023.10-02-py"
  },
  "language_info": {
   "codemirror_mode": {
    "name": "ipython",
    "version": 3
   },
   "file_extension": ".py",
   "mimetype": "text/x-python",
   "name": "python",
   "nbconvert_exporter": "python",
   "pygments_lexer": "ipython3",
   "version": "3.10.13"
  }
 },
 "nbformat": 4,
 "nbformat_minor": 5
}
