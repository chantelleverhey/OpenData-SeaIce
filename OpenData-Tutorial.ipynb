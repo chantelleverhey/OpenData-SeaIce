{
 "cells": [
  {
   "cell_type": "markdown",
   "id": "a4045362-c1d5-48c8-a57f-fbebe4c5004e",
   "metadata": {},
   "source": [
    "# Open Data Exercise"
   ]
  },
  {
   "cell_type": "markdown",
   "id": "df0f6faa-3333-476d-8455-2e3bfcced9ce",
   "metadata": {
    "tags": []
   },
   "source": [
    "# Polar Data Search \n",
    "https://Search.polder.info\n",
    "\n",
    "## Search for sea-ice extent\n",
    "\"sea-ice extent\"\n",
    "\n",
    "### Follow DOI (PID)to find the dataset below\n",
    "Sea Ice Outlook 2008-2023, Pan-arctic region\n",
    "doi:10.18739/A2WS8HN79\n",
    "https://arcticdata.io/catalog/view/doi:10.18739/A2WS8HN79\n",
    "\n",
    "### download .csv\n",
    "\n",
    "# PolarTEP ENV\n",
    "\n",
    "## setup new folder\n",
    "\n",
    "- Step 1:\n",
    "- Step 2:\n",
    "- Step 3:\n",
    "\n",
    "## Import .csv\n",
    "\n",
    "- Step 1:\n",
    "- Step 2:\n",
    "- Step 3:\n",
    "\n",
    "## run extent code"
   ]
  },
  {
   "cell_type": "code",
   "execution_count": null,
   "id": "9c014dd3-2f3f-4b4b-9b4a-c8ce5cb846e2",
   "metadata": {},
   "outputs": [],
   "source": []
  }
 ],
 "metadata": {
  "kernelspec": {
   "display_name": "users-edcg-2023.10-01",
   "language": "python",
   "name": "conda-env-users-edcg-2023.10-01-py"
  },
  "language_info": {
   "codemirror_mode": {
    "name": "ipython",
    "version": 3
   },
   "file_extension": ".py",
   "mimetype": "text/x-python",
   "name": "python",
   "nbconvert_exporter": "python",
   "pygments_lexer": "ipython3",
   "version": "3.10.13"
  }
 },
 "nbformat": 4,
 "nbformat_minor": 5
}
