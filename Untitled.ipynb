{
 "cells": [
  {
   "cell_type": "code",
   "execution_count": null,
   "id": "0e6c64a1-082d-49bd-9e9a-a71662ba5279",
   "metadata": {},
   "outputs": [],
   "source": []
  }
 ],
 "metadata": {
  "kernelspec": {
   "display_name": "users-edcg-2023.10-01",
   "language": "python",
   "name": "conda-env-users-edcg-2023.10-01-py"
  },
  "language_info": {
   "codemirror_mode": {
    "name": "ipython",
    "version": 3
   },
   "file_extension": ".py",
   "mimetype": "text/x-python",
   "name": "python",
   "nbconvert_exporter": "python",
   "pygments_lexer": "ipython3",
   "version": "3.10.13"
  }
 },
 "nbformat": 4,
 "nbformat_minor": 5
}
